{
 "cells": [
  {
   "cell_type": "code",
   "execution_count": 2,
   "metadata": {},
   "outputs": [],
   "source": [
    "\"\"\"\n",
    "날짜 : 2023/01/13\n",
    "이름 : 길은섭\n",
    "내용 : 파이썬 데이터베이스 프로그래밍 실습\n",
    "\n",
    " - 터미널에서 pymysql 패키지 설치\n",
    "\"\"\"\n",
    "import pymysql"
   ]
  },
  {
   "cell_type": "code",
   "execution_count": 4,
   "metadata": {},
   "outputs": [
    {
     "name": "stdout",
     "output_type": "stream",
     "text": [
      "Insert 완료...\n"
     ]
    }
   ],
   "source": [
    "# Insert 실습\n",
    "\n",
    "# 데이터베이스 접속\n",
    "conn = pymysql.connect(host='127.0.0.1', \n",
    "                        user='root', \n",
    "                        password='1234',\n",
    "                        db='java1db', \n",
    "                        charset='utf8')\n",
    "\n",
    "# SQL 실행\n",
    "cur = conn.cursor() # cur = 스테이먼트, 프리레어 스테이먼트와 같음\n",
    "\n",
    "# SQL 실행\n",
    "sql = \"insert into `user1` values ('p101', '1234', '파이썬', '010-1234-1001', 27)\"\n",
    "cur.execute(sql)\n",
    "\n",
    "# 데이터베이스 종료\n",
    "conn.commit() # 트랜젝션으로 처리하기 때문에 마지막에 커밋 처리\n",
    "print('Insert 완료...')\n"
   ]
  },
  {
   "cell_type": "code",
   "execution_count": 3,
   "metadata": {},
   "outputs": [
    {
     "name": "stdout",
     "output_type": "stream",
     "text": [
      "Update 완료...\n"
     ]
    }
   ],
   "source": [
    "# Update 실습\n",
    "\n",
    "# 데이터베이스 접속\n",
    "conn = pymysql.connect(host='127.0.0.1', \n",
    "                        user='root', \n",
    "                        password='1234',\n",
    "                        db='java1db', \n",
    "                        charset='utf8')\n",
    "\n",
    "# SQL 실행\n",
    "cur = conn.cursor() # cur = 스테이먼트, 프리레어 스테이먼트와 같음\n",
    "\n",
    "# SQL 실행\n",
    "sql = \"update `user1` set \"\n",
    "sql += \"`name` = '메이',\"\n",
    "sql += \"`hp` = '010-1234-1002',\"\n",
    "sql += \"`age` = 33 \"\n",
    "sql += \"where `uid` = 'A101';\"\n",
    "cur.execute(sql)\n",
    "\n",
    "# 데이터베이스 종료\n",
    "conn.commit() # 트랜젝션으로 처리하기 때문에 마지막에 커밋 처리\n",
    "print('Update 완료...')\n"
   ]
  },
  {
   "cell_type": "code",
   "execution_count": 13,
   "metadata": {},
   "outputs": [
    {
     "name": "stdout",
     "output_type": "stream",
     "text": [
      "Delete 완료...\n"
     ]
    }
   ],
   "source": [
    "# Delete 실습\n",
    "\n",
    "# 데이터베이스 접속\n",
    "conn = pymysql.connect(host='127.0.0.1', \n",
    "                        user='root', \n",
    "                        password='1234',\n",
    "                        db='java1db', \n",
    "                        charset='utf8')\n",
    "\n",
    "# SQL 실행\n",
    "cur = conn.cursor() # cur = 스테이먼트, 프리레어 스테이먼트와 같음\n",
    "\n",
    "# SQL 실행\n",
    "sql = \"delete from `user1` where `uid` = 'p101' \"\n",
    "cur.execute(sql)\n",
    "\n",
    "# 데이터베이스 종료\n",
    "conn.commit() # 트랜젝션으로 처리하기 때문에 마지막에 커밋 처리\n",
    "print('Delete 완료...')\n"
   ]
  },
  {
   "cell_type": "code",
   "execution_count": 19,
   "metadata": {},
   "outputs": [
    {
     "name": "stdout",
     "output_type": "stream",
     "text": [
      "----------------------\n",
      "아이디 : A101\n",
      "비밀번호 : 1234\n",
      "이름: 메이\n",
      "휴대폰 : 010-1234-1002\n",
      "나이 : 33\n",
      "----------------------\n",
      "아이디 : B201\n",
      "비밀번호 : 1234\n",
      "이름: 아나\n",
      "휴대폰 : 010-1234-1002\n",
      "나이 : 22\n",
      "----------------------\n",
      "아이디 : C301\n",
      "비밀번호 : 1234\n",
      "이름: 디바\n",
      "휴대폰 : 010-1234-1003\n",
      "나이 : 33\n",
      "----------------------\n",
      "아이디 : D401\n",
      "비밀번호 : 1234\n",
      "이름: 윈스턴\n",
      "휴대폰 : 010-1234-1004\n",
      "나이 : 44\n",
      "----------------------\n",
      "아이디 : E501\n",
      "비밀번호 : 1234\n",
      "이름: 겐지\n",
      "휴대폰 : 010-1234-1005\n",
      "나이 : 55\n",
      "----------------------\n",
      "아이디 : T101\n",
      "비밀번호 : 1234\n",
      "이름: 테 이블\n",
      "휴대폰 : 25-456-78979\n",
      "나이 : 99\n",
      "----------------------\n",
      "아이디 : S101\n",
      "비밀번호 : 1234\n",
      "이름: 스 프링\n",
      "휴대폰 : 010-5555-8888\n",
      "나이 : 66\n",
      "----------------------\n",
      "Select 완료...\n"
     ]
    }
   ],
   "source": [
    "# Select 실습\n",
    "conn = pymysql.connect(host='127.0.0.1', \n",
    "                        user='root', \n",
    "                        password='1234',\n",
    "                        db='java1db', \n",
    "                        charset='utf8')\n",
    "\n",
    "# SQL 실행\n",
    "cur = conn.cursor()\n",
    "\n",
    "sql = \"select * from `user1`\"\n",
    "cur.execute(sql)\n",
    "conn.commit()\n",
    "\n",
    "# 데이터 출력 - 반복변수 row로 출력되게 함\n",
    "for row in cur.fetchall():\n",
    "    print('----------------------')\n",
    "    print('아이디 :', row[0])\n",
    "    print('비밀번호 :', row[1])\n",
    "    print('이름:', row[2])\n",
    "    print('휴대폰 :', row[3])\n",
    "    print('나이 :', row[4])\n",
    "print('----------------------')\n",
    "\n",
    "conn.close()\n",
    "print('Select 완료...')"
   ]
  }
 ],
 "metadata": {
  "kernelspec": {
   "display_name": "Python 3",
   "language": "python",
   "name": "python3"
  },
  "language_info": {
   "codemirror_mode": {
    "name": "ipython",
    "version": 3
   },
   "file_extension": ".py",
   "mimetype": "text/x-python",
   "name": "python",
   "nbconvert_exporter": "python",
   "pygments_lexer": "ipython3",
   "version": "3.11.1"
  },
  "orig_nbformat": 4,
  "vscode": {
   "interpreter": {
    "hash": "ca3167030a8377a7b82d5e665b459d458267ba920e721652be188ae573e682bb"
   }
  }
 },
 "nbformat": 4,
 "nbformat_minor": 2
}
